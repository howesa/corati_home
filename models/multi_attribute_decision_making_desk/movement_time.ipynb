{
 "cells": [
  {
   "cell_type": "markdown",
   "id": "a5b2a86e-876b-42e4-9681-e0eaa60d82e9",
   "metadata": {},
   "source": [
    "## Movement time\n",
    "\n",
    "Examine how the model predicts movement times for different distances."
   ]
  },
  {
   "cell_type": "code",
   "execution_count": 1,
   "id": "d9980539-afbe-4ab3-a06a-ec1ffdb59d26",
   "metadata": {},
   "outputs": [],
   "source": [
    "from gazetools import *"
   ]
  },
  {
   "cell_type": "code",
   "execution_count": 71,
   "id": "54ab20df-06c4-4525-b1fb-3f907f0b5a45",
   "metadata": {},
   "outputs": [
    {
     "data": {
      "text/html": [
       "<div>\n",
       "<style scoped>\n",
       "    .dataframe tbody tr th:only-of-type {\n",
       "        vertical-align: middle;\n",
       "    }\n",
       "\n",
       "    .dataframe tbody tr th {\n",
       "        vertical-align: top;\n",
       "    }\n",
       "\n",
       "    .dataframe thead th {\n",
       "        text-align: right;\n",
       "    }\n",
       "</style>\n",
       "<table border=\"1\" class=\"dataframe\">\n",
       "  <thead>\n",
       "    <tr style=\"text-align: right;\">\n",
       "      <th></th>\n",
       "      <th>step</th>\n",
       "      <th>reward</th>\n",
       "      <th>done</th>\n",
       "      <th>target_width</th>\n",
       "      <th>target_x</th>\n",
       "      <th>target_y</th>\n",
       "      <th>fixation_x</th>\n",
       "      <th>fixation_y</th>\n",
       "      <th>episode</th>\n",
       "    </tr>\n",
       "  </thead>\n",
       "  <tbody>\n",
       "    <tr>\n",
       "      <th>0</th>\n",
       "      <td>0</td>\n",
       "      <td>0.000000</td>\n",
       "      <td>False</td>\n",
       "      <td>0.15</td>\n",
       "      <td>-0.005797</td>\n",
       "      <td>-0.293959</td>\n",
       "      <td>-1.000000</td>\n",
       "      <td>-1.000000</td>\n",
       "      <td>0</td>\n",
       "    </tr>\n",
       "    <tr>\n",
       "      <th>1</th>\n",
       "      <td>1</td>\n",
       "      <td>-0.296028</td>\n",
       "      <td>False</td>\n",
       "      <td>0.15</td>\n",
       "      <td>-0.005797</td>\n",
       "      <td>-0.293959</td>\n",
       "      <td>-0.014563</td>\n",
       "      <td>0.001939</td>\n",
       "      <td>0</td>\n",
       "    </tr>\n",
       "    <tr>\n",
       "      <th>2</th>\n",
       "      <td>2</td>\n",
       "      <td>0.000000</td>\n",
       "      <td>True</td>\n",
       "      <td>0.15</td>\n",
       "      <td>-0.005797</td>\n",
       "      <td>-0.293959</td>\n",
       "      <td>-0.001897</td>\n",
       "      <td>-0.298669</td>\n",
       "      <td>0</td>\n",
       "    </tr>\n",
       "    <tr>\n",
       "      <th>3</th>\n",
       "      <td>0</td>\n",
       "      <td>0.000000</td>\n",
       "      <td>False</td>\n",
       "      <td>0.15</td>\n",
       "      <td>-0.372173</td>\n",
       "      <td>0.601522</td>\n",
       "      <td>-1.000000</td>\n",
       "      <td>-1.000000</td>\n",
       "      <td>1</td>\n",
       "    </tr>\n",
       "    <tr>\n",
       "      <th>4</th>\n",
       "      <td>1</td>\n",
       "      <td>-0.698794</td>\n",
       "      <td>False</td>\n",
       "      <td>0.15</td>\n",
       "      <td>-0.372173</td>\n",
       "      <td>0.601522</td>\n",
       "      <td>-0.018058</td>\n",
       "      <td>-0.000903</td>\n",
       "      <td>1</td>\n",
       "    </tr>\n",
       "    <tr>\n",
       "      <th>...</th>\n",
       "      <td>...</td>\n",
       "      <td>...</td>\n",
       "      <td>...</td>\n",
       "      <td>...</td>\n",
       "      <td>...</td>\n",
       "      <td>...</td>\n",
       "      <td>...</td>\n",
       "      <td>...</td>\n",
       "      <td>...</td>\n",
       "    </tr>\n",
       "    <tr>\n",
       "      <th>3214</th>\n",
       "      <td>3</td>\n",
       "      <td>-0.093249</td>\n",
       "      <td>False</td>\n",
       "      <td>0.15</td>\n",
       "      <td>0.555035</td>\n",
       "      <td>-0.728006</td>\n",
       "      <td>0.515211</td>\n",
       "      <td>-0.643689</td>\n",
       "      <td>998</td>\n",
       "    </tr>\n",
       "    <tr>\n",
       "      <th>3215</th>\n",
       "      <td>4</td>\n",
       "      <td>0.000000</td>\n",
       "      <td>True</td>\n",
       "      <td>0.15</td>\n",
       "      <td>0.555035</td>\n",
       "      <td>-0.728006</td>\n",
       "      <td>0.582491</td>\n",
       "      <td>-0.722611</td>\n",
       "      <td>998</td>\n",
       "    </tr>\n",
       "    <tr>\n",
       "      <th>3216</th>\n",
       "      <td>0</td>\n",
       "      <td>0.000000</td>\n",
       "      <td>False</td>\n",
       "      <td>0.15</td>\n",
       "      <td>0.530559</td>\n",
       "      <td>-0.103241</td>\n",
       "      <td>-1.000000</td>\n",
       "      <td>-1.000000</td>\n",
       "      <td>999</td>\n",
       "    </tr>\n",
       "    <tr>\n",
       "      <th>3217</th>\n",
       "      <td>1</td>\n",
       "      <td>-0.559748</td>\n",
       "      <td>False</td>\n",
       "      <td>0.15</td>\n",
       "      <td>0.530559</td>\n",
       "      <td>-0.103241</td>\n",
       "      <td>-0.022162</td>\n",
       "      <td>-0.014826</td>\n",
       "      <td>999</td>\n",
       "    </tr>\n",
       "    <tr>\n",
       "      <th>3218</th>\n",
       "      <td>2</td>\n",
       "      <td>0.000000</td>\n",
       "      <td>True</td>\n",
       "      <td>0.15</td>\n",
       "      <td>0.530559</td>\n",
       "      <td>-0.103241</td>\n",
       "      <td>0.492155</td>\n",
       "      <td>-0.067464</td>\n",
       "      <td>999</td>\n",
       "    </tr>\n",
       "  </tbody>\n",
       "</table>\n",
       "<p>3219 rows × 9 columns</p>\n",
       "</div>"
      ],
      "text/plain": [
       "      step    reward   done  target_width  target_x  target_y  fixation_x  \\\n",
       "0        0  0.000000  False          0.15 -0.005797 -0.293959   -1.000000   \n",
       "1        1 -0.296028  False          0.15 -0.005797 -0.293959   -0.014563   \n",
       "2        2  0.000000   True          0.15 -0.005797 -0.293959   -0.001897   \n",
       "3        0  0.000000  False          0.15 -0.372173  0.601522   -1.000000   \n",
       "4        1 -0.698794  False          0.15 -0.372173  0.601522   -0.018058   \n",
       "...    ...       ...    ...           ...       ...       ...         ...   \n",
       "3214     3 -0.093249  False          0.15  0.555035 -0.728006    0.515211   \n",
       "3215     4  0.000000   True          0.15  0.555035 -0.728006    0.582491   \n",
       "3216     0  0.000000  False          0.15  0.530559 -0.103241   -1.000000   \n",
       "3217     1 -0.559748  False          0.15  0.530559 -0.103241   -0.022162   \n",
       "3218     2  0.000000   True          0.15  0.530559 -0.103241    0.492155   \n",
       "\n",
       "      fixation_y  episode  \n",
       "0      -1.000000        0  \n",
       "1       0.001939        0  \n",
       "2      -0.298669        0  \n",
       "3      -1.000000        1  \n",
       "4      -0.000903        1  \n",
       "...          ...      ...  \n",
       "3214   -0.643689      998  \n",
       "3215   -0.722611      998  \n",
       "3216   -1.000000      999  \n",
       "3217   -0.014826      999  \n",
       "3218   -0.067464      999  \n",
       "\n",
       "[3219 rows x 9 columns]"
      ]
     },
     "execution_count": 71,
     "metadata": {},
     "output_type": "execute_result"
    }
   ],
   "source": [
    "data = pd.read_csv('output/behaviour_trace.csv')\n",
    "data"
   ]
  },
  {
   "cell_type": "code",
   "execution_count": 72,
   "id": "81b6d375-a9dc-4b76-829e-adb273a1e270",
   "metadata": {},
   "outputs": [
    {
     "data": {
      "text/plain": [
       "<matplotlib.collections.PathCollection at 0x128b4a100>"
      ]
     },
     "execution_count": 72,
     "metadata": {},
     "output_type": "execute_result"
    },
    {
     "data": {
      "image/png": "[encoded data removed]",
      "text/plain": [
       "<Figure size 432x288 with 1 Axes>"
      ]
     },
     "metadata": {
      "needs_background": "light"
     },
     "output_type": "display_data"
    }
   ],
   "source": [
    "\n",
    "x = data['target_x']\n",
    "y = data['target_y']\n",
    "plt.xlim(-1,1)\n",
    "plt.ylim(-1,1)\n",
    "plt.scatter(x,y)"
   ]
  },
  {
   "cell_type": "code",
   "execution_count": 79,
   "id": "14f56c69-c343-4eba-9640-f39d9cd6acf6",
   "metadata": {},
   "outputs": [
    {
     "data": {
      "text/plain": [
       "<matplotlib.collections.PathCollection at 0x128f5adf0>"
      ]
     },
     "execution_count": 79,
     "metadata": {},
     "output_type": "execute_result"
    },
    {
     "data": {
      "image/png": "[encoded data removed]",
      "text/plain": [
       "<Figure size 432x288 with 1 Axes>"
      ]
     },
     "metadata": {
      "needs_background": "light"
     },
     "output_type": "display_data"
    }
   ],
   "source": [
    "def calc_all_move_durations(data):\n",
    "    n = max(data['episode']) + 1\n",
    "    result = []\n",
    "    for eps in range(n):\n",
    "        # each episode\n",
    "        df_eps=data.loc[data['episode']==eps]\n",
    "        df_eps.reset_index(drop=True, inplace=True)\n",
    "        d = move_duration(df_eps)\n",
    "        # the distance of the target from (0,0)\n",
    "        t = np.sqrt( (df_eps['target_x'][0] - df_eps['target_y'][0])**2 )\n",
    "        out = {'move_distance':d, 'target_distance':t}\n",
    "        result.append(out)\n",
    "    r = pd.DataFrame(result)\n",
    "    return r\n",
    "\n",
    "def move_duration(data):\n",
    "    ''' calculate the move duration for an episode.\n",
    "        Assumes that param data contains a single row for each fixation in the episode and no other rows.\n",
    "    '''\n",
    "    n = data.shape[0]\n",
    "    result = 0\n",
    "    x0 = data['fixation_x'][0]\n",
    "    y0 = data['fixation_y'][0]    \n",
    "    for step in range(1,n):\n",
    "        x1 = data['fixation_x'][step]\n",
    "        y1 = data['fixation_y'][step]\n",
    "        # calculate the Euclidean distance for the saccade between two fixations.\n",
    "        dist = np.sqrt((x0-x1)**2 + (y0-y1)**2)\n",
    "        x0 = x1\n",
    "        y0 = y1\n",
    "        fix_duration = 0.2\n",
    "        result = result + dist + fix_duration\n",
    "    return result\n",
    "\n",
    "dist = calc_all_move_durations(data)\n",
    "\n",
    "x = dist['target_distance']\n",
    "y = dist['move_distance']\n",
    "plt.ylim(1.5,4)\n",
    "plt.xlim(0.2,1.6)\n",
    "plt.xlabel('distance')\n",
    "plt.ylabel('duration')\n",
    "plt.scatter(x,y)"
   ]
  }
 ],
 "metadata": {
  "kernelspec": {
   "display_name": "Python 3 (ipykernel)",
   "language": "python",
   "name": "python3"
  },
  "language_info": {
   "codemirror_mode": {
    "name": "ipython",
    "version": 3
   },
   "file_extension": ".py",
   "mimetype": "text/x-python",
   "name": "python",
   "nbconvert_exporter": "python",
   "pygments_lexer": "ipython3",
   "version": "3.8.2"
  }
 },
 "nbformat": 4,
 "nbformat_minor": 5
}
