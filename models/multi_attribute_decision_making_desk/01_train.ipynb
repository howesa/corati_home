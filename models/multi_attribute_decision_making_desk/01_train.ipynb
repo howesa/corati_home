{
 "cells": [
  {
   "cell_type": "markdown",
   "id": "e84939c3-dd95-4a82-b3f7-c659a2a882f2",
   "metadata": {
    "tags": []
   },
   "source": [
    "## Multi-attribute decision making\n",
    "\n",
    "Andrew Howes\n",
    "\n",
    "July 2022\n",
    "\n",
    "Multi-attribute decision making is the problem of choosing between multiple options each of which is described as a set of attribute/value pairs. People can be thought of as multi-attribute decision makers when for example they choose between different apartments, cars, or music channels. Payne, Bettman et al. conducted extensive studies of multi-attribute decision making in the 1980s and 1990s. \n",
    "\n",
    "For people, one part of the muti-attribute problem involves gathering information and more specifically, in what order to gather attribute/value pairs and when to stop. Typically, a person will not seek to gather information about all attribute/value pairs before stopping gathering information and making a decision. \n",
    "\n",
    "The process of information gathering is believed to be an active, sequential process with each decision as to what to do next informed by the information already gathered.\n",
    "\n",
    "Typically, people gather information from computer displays using eye-movements and fixations. The pattern of eye-movements is known to be influenced by the design of the interface but also by the relative value of the attributes to determining the utility of the outcome.\n",
    "\n",
    "The purpose of this notebook is to introduce a reinforcement learning model of how human's gather information in service of multi-attribute decisions. The notebook loosely follows the logic of Chen et al. (2017).\n",
    "\n",
    "Rather than strategies being programmed into the model, instead a policy for how to move the eyes is learned using reinforcement learning. The learned policy is the optimal solution to a problem that is defined by the constraints imposed by the oculomotor and perceptual systems and by the reward function. \n",
    "\n",
    "<img src=\"image/example_decision_task.png\" alt=\"An example decision task involving a choice between 3 apartments. Overlaid with an illustration of a typical pattern of eye-movements.\" width=\"500\" height=\"400\">\n",
    "\n",
    "The decision problem is illustrated in the above figure. Here there is a choice between three apartments, each of which has three attributes. The attribute values are represented in a table. The red circles represent a sequence of eye-movements used to gather relevant information. While these eye-movements are fictional they represent a typical pattern in which the user has gathered all information about rents before looking at only the Location of Apartment B and only the sizes of Apartments A and B. Moreover, the pattern suggests a decision strategy known as 'decision-by-aspects'; here, attribute values are compared rather than each option being assessed independently."
   ]
  },
  {
   "cell_type": "markdown",
   "id": "19539b13-a965-4f76-95ba-4589ef6db35c",
   "metadata": {
    "tags": []
   },
   "source": [
    "### The cognitive architecture\n",
    "\n",
    "The constraints of the model in this notebook are defined in a cognitive architecture -- an information processing model of the mind.\n",
    "\n",
    "<img src=\"image/architecture.png\" alt=\"Box diagram of a cognitive model.\" width=\"700\" height=\"400\">\n",
    "\n",
    "A cognitive architecture represents a commitment to a theory of how information is processed in the human mind. The cognitive architecture in the figure consists of five modules (inside the dashed box) that interact with an external world.\n",
    "\n",
    "Below, the modules have the following properties:\n",
    "\n",
    "* **World** On each trial, a \n",
    "* **Perception** The location of target location stimuli are corrupted by Gaussian noise in human vision. The standard deviation of noise increases linearly with eccentricity from the fovea. \n",
    "* **Memory** Sequences of stimuli are optimally integrated.\n",
    "* **Utility** Rewards are received for getting closer to the target.\n",
    "* **Motor** Intended eye movements (oculomotor actions) are corrupted by signal dependent Gaussian noise to generate responses.\n",
    "* **Control**  The Control module observes the memory and receives a reward. It learns a policy for making eye movements to the target that maximises the reward.\n",
    "\n",
    "A python implementation of each module is described below."
   ]
  },
  {
   "cell_type": "markdown",
   "id": "0cebf7d7-774c-4374-ba2f-a8679e7220de",
   "metadata": {
    "jp-MarkdownHeadingCollapsed": true,
    "tags": []
   },
   "source": [
    "## Import and configure"
   ]
  },
  {
   "cell_type": "code",
   "execution_count": 1,
   "id": "oeJU5wJR7A8V",
   "metadata": {
    "colab": {
     "base_uri": "https://localhost:8080/"
    },
    "executionInfo": {
     "elapsed": 1652,
     "status": "ok",
     "timestamp": 1643210006123,
     "user": {
      "displayName": "Andrew Howes",
      "photoUrl": "https://lh3.googleusercontent.com/a-/AOh14GguyjUymXH2ndqd0p8hhQuI6UyIwWtm4lsMYWs0Ug=s64",
      "userId": "02694399383679444060"
     },
     "user_tz": 0
    },
    "id": "oeJU5wJR7A8V",
    "outputId": "f8e53d98-820c-4a31-b9f5-e4b5c46bd72b"
   },
   "outputs": [],
   "source": [
    "# This cell only for users of Google Colab.\n",
    "# No need to run this if you are using Jupyter notebooks\n",
    "# Mount Google drive and change directory into the project folder\n",
    "# Only needs to be run once\n",
    "\n",
    "#!pip install stable_baselines3\n",
    "\n",
    "#from google.colab import drive\n",
    "#drive.mount('/content/drive')\n",
    "\n",
    "#%cd '/content/drive/MyDrive/CHI22CMT/CHI22_CogMod_Tutorial/03-Reinforcement-Learning/034_Gaze_based_Interaction'\n"
   ]
  },
  {
   "cell_type": "code",
   "execution_count": 2,
   "id": "P44tljjb8hBC",
   "metadata": {
    "colab": {
     "base_uri": "https://localhost:8080/"
    },
    "executionInfo": {
     "elapsed": 6305,
     "status": "ok",
     "timestamp": 1643209694066,
     "user": {
      "displayName": "Andrew Howes",
      "photoUrl": "https://lh3.googleusercontent.com/a-/AOh14GguyjUymXH2ndqd0p8hhQuI6UyIwWtm4lsMYWs0Ug=s64",
      "userId": "02694399383679444060"
     },
     "user_tz": 0
    },
    "id": "P44tljjb8hBC",
    "outputId": "d635fb70-1df0-4ab3-f15e-13b3d7b2fdc9"
   },
   "outputs": [],
   "source": [
    "# Load local modules\n",
    "# gazetools is a module that contains functions for modeling gaze-based interaction.\n",
    "\n",
    "from tools import *\n"
   ]
  },
  {
   "cell_type": "code",
   "execution_count": 3,
   "id": "dd229b7d-169a-45fa-b327-de4eb2db96dc",
   "metadata": {},
   "outputs": [],
   "source": [
    "# Create a folder for the output files\n",
    "\n",
    "#output_dir = 'output/'\n",
    "\n",
    "#if not os.path.exists(output_dir):\n",
    "#    os.mkdir(output_dir)"
   ]
  },
  {
   "cell_type": "code",
   "execution_count": 4,
   "id": "100b0d0e-33c1-4d21-b7e1-d320a62f54d0",
   "metadata": {},
   "outputs": [
    {
     "name": "stdout",
     "output_type": "stream",
     "text": [
      ".folder_number_for_results.pickle\n"
     ]
    }
   ],
   "source": [
    "fldr = create_new_folder('results')"
   ]
  },
  {
   "cell_type": "markdown",
   "id": "6554f211-129f-499d-942a-8ba18735be9a",
   "metadata": {
    "tags": []
   },
   "source": [
    "## Modules"
   ]
  },
  {
   "cell_type": "markdown",
   "id": "boolean-missile",
   "metadata": {
    "id": "boolean-missile",
    "jp-MarkdownHeadingCollapsed": true,
    "tags": []
   },
   "source": [
    "### World Module\n",
    "\n",
    "The World generates a **stimulus** and the agent can **respond** with an eye-movement.\n",
    "\n",
    "The **stimulus** is the currently foveated cell of a table of values that are organised according to the figure above with options on rows and attributes in columns. \n"
   ]
  },
  {
   "cell_type": "code",
   "execution_count": 5,
   "id": "bacterial-archives",
   "metadata": {
    "executionInfo": {
     "elapsed": 472,
     "status": "ok",
     "timestamp": 1643209742334,
     "user": {
      "displayName": "Andrew Howes",
      "photoUrl": "https://lh3.googleusercontent.com/a-/AOh14GguyjUymXH2ndqd0p8hhQuI6UyIwWtm4lsMYWs0Ug=s64",
      "userId": "02694399383679444060"
     },
     "user_tz": 0
    },
    "id": "bacterial-archives"
   },
   "outputs": [
    {
     "name": "stdout",
     "output_type": "stream",
     "text": [
      "[[-0.51627866 -3.0033507   0.70051273]\n",
      " [-0.02074139  1.28139589 -1.37161614]\n",
      " [-0.23353773 -1.10631136 -1.45249904]\n",
      " [ 0.          0.          0.        ]]\n",
      "{'fixation': [3, 1], 'values': array([[ 0.        , -3.0033507 ,  0.        ],\n",
      "       [ 0.        ,  1.28139589,  0.        ],\n",
      "       [ 0.        , -1.10631136,  0.        ],\n",
      "       [ 0.        ,  0.        ,  0.        ]])}\n",
      "True\n"
     ]
    }
   ],
   "source": [
    "class MultiAttributeDecisionMaking():\n",
    "    ''' There is a table of attribute values and a set of decision buttons by which an option can be chosen. \n",
    "        There is a fixation on one of the values or on a decision button.\n",
    "        '''\n",
    "    \n",
    "    def __init__(self, theta, output_dir):\n",
    "        self.theta=theta\n",
    "        self.output_dir=output_dir\n",
    "        \n",
    "    def reset(self):\n",
    "        ''' The state of the World consists of a table of attribute/value pairs.'''\n",
    "        \n",
    "        def get_display():\n",
    "            ''' A display consists of options on rows and attributes in columns. \n",
    "                The last column is the option buttons, so do not assign values.\n",
    "            '''\n",
    "            n_cols = self.theta['n_attr']+1\n",
    "            self.display_dims = (n_cols, self.theta['n_options'])\n",
    "            self.display = np.zeros(self.display_dims)\n",
    "            # generate a table of values.\n",
    "            # would be better to first generate stds and map onto (-1,1) rather than clip.\n",
    "            value_dims = (self.theta['n_attr'], self.theta['n_options'])\n",
    "            values = np.random.normal(0, 1, value_dims)\n",
    "            self.values = np.clip(values, -0.9, 1) # reserve -1 for a null value meaning that the cell has not yet been looked at.\n",
    "            self.display[0:-1,] = values\n",
    "            return np.array( self.display )\n",
    "    \n",
    "        # the initial fixation\n",
    "        self.fixation = np.array([-1,-1])\n",
    "        # the target location for this episode\n",
    "        self.display = get_display()\n",
    "        return self.display\n",
    "    \n",
    "    def get_background(self, eps):\n",
    "        ''' Generate a list of dictionaries each of which describes an element in the World.\n",
    "        '''\n",
    "        bgrnd = []\n",
    "        for x in range(0,self.values.shape[0]):\n",
    "            for y in range(0,self.values.shape[1]):\n",
    "                bgrnd.append( {'type':'value', 'value':round(self.values[x,y]*100), 'x':x, 'y':y, 'episode':eps} )\n",
    "        bgrnd.append( {'type':'button', 'value':'Option A', 'x':3, 'y':0, 'episode':eps} )\n",
    "        bgrnd.append( {'type':'button', 'value':'Option B', 'x':3, 'y':1, 'episode':eps} )\n",
    "        bgrnd.append( {'type':'button', 'value':'Option C', 'x':3, 'y':2, 'episode':eps} )\n",
    "        return bgrnd\n",
    "\n",
    "    def step(self, response):\n",
    "        ''' The response is a discrete x,y display coordinate. \n",
    "            If the fixation is on a value then return its value in the display[] array as the (partial) observation.\n",
    "            If the fixation is a button then return all attr values -- this gives ground truth feedback to the agent.\n",
    "        '''\n",
    "        self.fixation = response\n",
    "        s_values = np.zeros(self.display_dims)\n",
    "        # if an option has been selected then done=True...\n",
    "        if response[0]==self.theta['n_attr']:\n",
    "            done = True\n",
    "            # experience and perceive all attribute values of the selected option.\n",
    "            s_values[:,response[1]] = self.display[:,response[1]] \n",
    "            stimulus = {'fixation': self.fixation, 'values':s_values }\n",
    "        else:\n",
    "            # just perceive the fixated item...\n",
    "            done = False\n",
    "            # only perceive the foviated value\n",
    "            s_values[ response[0], response[1] ] = self.display[ response[0], response[1] ]\n",
    "            stimulus = {'fixation': self.fixation, 'values':s_values }\n",
    "        return stimulus, done\n",
    "\n",
    "class World(MultiAttributeDecisionMaking):\n",
    "    pass\n",
    "\n",
    "theta = {'n_attr':3, 'n_options':3}\n",
    "world = World(theta, fldr)\n",
    "display = world.reset()\n",
    "print( display )\n",
    "stimulus, done = world.step([3,1])\n",
    "print( stimulus )\n",
    "print (done)"
   ]
  },
  {
   "cell_type": "markdown",
   "id": "42ead0e8-481f-4af5-8351-433684c306da",
   "metadata": {
    "jp-MarkdownHeadingCollapsed": true,
    "tags": []
   },
   "source": [
    "### Perception Module"
   ]
  },
  {
   "cell_type": "code",
   "execution_count": 6,
   "id": "cc9b29d5-2ab8-4f65-9bab-802d60507b20",
   "metadata": {},
   "outputs": [],
   "source": [
    "\n",
    "class Vision():\n",
    "    ''' Foveated vision but with out any peripheral vision.\n",
    "    '''\n",
    "    def __init__(self, theta):\n",
    "        self.theta = theta\n",
    "    \n",
    "    def reset(self):\n",
    "        pass\n",
    "    \n",
    "    def step(self, stimulus):\n",
    " \n",
    "        percept = stimulus\n",
    "        return stimulus\n",
    "\n",
    "class Perception(Vision):\n",
    "    pass\n"
   ]
  },
  {
   "cell_type": "markdown",
   "id": "bf31c382-0988-4cd9-bf9c-8f629cd8b07a",
   "metadata": {
    "jp-MarkdownHeadingCollapsed": true,
    "tags": []
   },
   "source": [
    "### Memory Module"
   ]
  },
  {
   "cell_type": "code",
   "execution_count": 7,
   "id": "93a7f30f-167d-4080-bcfe-de9db2129635",
   "metadata": {},
   "outputs": [
    {
     "name": "stdout",
     "output_type": "stream",
     "text": [
      "[[-0.49360801  0.1914226  -0.20784184]\n",
      " [ 0.48980696 -0.24177364  0.38893511]\n",
      " [-0.69608156  2.1177223   1.0494112 ]\n",
      " [ 0.          0.          0.        ]]\n",
      "[-1. -1. -1. -1. -1. -1. -1. -1. -1. -1. -1. -1.  0.  0.  0.  0.  0.  0.\n",
      "  0.  0.  0.  0.  0.  0.]\n",
      "[-1.         -1.         -1.         -1.         -0.24177364 -1.\n",
      " -1.         -1.         -1.         -1.         -1.         -1.\n",
      "  0.          0.          0.          0.          1.          0.\n",
      "  0.          0.          0.          0.          0.          0.        ]\n"
     ]
    }
   ],
   "source": [
    "class Memory():\n",
    "    ''' Keep a memory of percepts and fixations. Compute an observation of memory. \n",
    "        The memory is spatially structured.\n",
    "        self.valmem is the memory of perceived values.\n",
    "        self.fixmem is the memory of perceived fixation locations.\n",
    "        These are concatenated to form the observation.\n",
    "        An alternative to fixmem is a memory of variances combined with a Kalman filter.\n",
    "    '''\n",
    "    \n",
    "    def __init__(self, theta):\n",
    "        self.theta = theta\n",
    "        self.reset()\n",
    "        \n",
    "    def reset(self):\n",
    "        self.memory_dims = (self.theta['n_attr']+1, self.theta['n_options'])\n",
    "        self.valmem = np.full(self.memory_dims, -1, dtype=float)\n",
    "        self.fixmem = np.zeros(self.memory_dims)\n",
    "        observation = np.concatenate((self.valmem.flatten(), self.fixmem.flatten()))\n",
    "        return observation\n",
    "    \n",
    "    def step(self, percept):\n",
    "        self.valmem[tuple(percept['fixation'])] = percept['values'][tuple(percept['fixation'])]\n",
    "        self.fixmem[tuple(percept['fixation'])] = 1\n",
    "        observation = np.concatenate((self.valmem.flatten(), self.fixmem.flatten()))\n",
    "        return observation\n",
    "\n",
    "display = world.reset()\n",
    "print(display)\n",
    "mem = Memory(theta)\n",
    "m = mem.reset()\n",
    "print(m)\n",
    "m = mem.step({'fixation': [1,1], 'values': display })\n",
    "print(m)"
   ]
  },
  {
   "cell_type": "markdown",
   "id": "70ed508a-784e-4ef5-9333-4c52a39fb0a9",
   "metadata": {
    "jp-MarkdownHeadingCollapsed": true,
    "tags": []
   },
   "source": [
    "### Utility Module"
   ]
  },
  {
   "cell_type": "code",
   "execution_count": 8,
   "id": "5d516283-c998-4af5-8757-b07836053f1f",
   "metadata": {},
   "outputs": [
    {
     "name": "stdout",
     "output_type": "stream",
     "text": [
      "{'fixation': [3, 0], 'values': array([[ 0.49503142, -0.18910854, -0.29926618],\n",
      "       [-0.17452262,  2.33538853, -0.3297507 ],\n",
      "       [ 0.79798782, -0.42632954,  1.28618541],\n",
      "       [ 0.        ,  0.        ,  0.        ]])}\n"
     ]
    },
    {
     "data": {
      "text/plain": [
       "785.4858754442105"
      ]
     },
     "execution_count": 8,
     "metadata": {},
     "output_type": "execute_result"
    }
   ],
   "source": [
    "\n",
    "class Utility():\n",
    "    ''' Compute the reward given an observation.\n",
    "        Until a choice is made by focusing on the last column the reward is just the step cost.\n",
    "        Once a button in the last column has been foveated and a choice made then the reward is the weighted sum of the attribute values.\n",
    "        Note that all attribute values for the chosen option are in the percept... representing post choice experience.\n",
    "        (This may be corrupted by noise but is not in this version.)\n",
    "    '''\n",
    "    \n",
    "    def __init__(self, theta):\n",
    "        self.theta = theta\n",
    "    \n",
    "    def reset(self):\n",
    "        pass\n",
    "    \n",
    "    def step(self, percept):\n",
    "        fixation = percept['fixation']\n",
    "        values = percept['values']\n",
    "        if fixation[0]==self.theta['n_attr']:\n",
    "            reward_values = values[0:3,fixation[1]]\n",
    "            reward_values = reward_values * self.theta['weights']\n",
    "            reward = reward_values.sum(axis=0)\n",
    "        else:\n",
    "            reward = -self.theta['step_cost']\n",
    "        return reward\n",
    "\n",
    "theta = {'n_attr':3, 'n_options':3, 'step_cost':1, 'weights':np.array([10,100,1000])}\n",
    "utility = Utility(theta)\n",
    "values = world.reset()\n",
    "percept = {'fixation': [3,0], 'values': values}\n",
    "print(percept)\n",
    "utility.step(percept)"
   ]
  },
  {
   "cell_type": "markdown",
   "id": "44745453-faf5-4b53-bf4d-ad80b8f19c79",
   "metadata": {
    "jp-MarkdownHeadingCollapsed": true,
    "tags": []
   },
   "source": [
    "### Motor Module"
   ]
  },
  {
   "cell_type": "code",
   "execution_count": 9,
   "id": "9aea2b1b-0778-46b1-9448-d21240c5dce6",
   "metadata": {},
   "outputs": [],
   "source": [
    "\n",
    "class Oculomotor():\n",
    "    \n",
    "    def __init__(self, theta):\n",
    "        ''' The current fixation is part of the motor system state. '''\n",
    "        self.theta = theta\n",
    "        self.fixation = np.array([-1,-1])\n",
    "    \n",
    "    def reset(self):\n",
    "        self.fixation = np.array([-1,-1])\n",
    "    \n",
    "    def step(self, action):\n",
    "        self.fixation = action\n",
    "        return action\n",
    "\n",
    "class Motor(Oculomotor):\n",
    "    pass\n"
   ]
  },
  {
   "cell_type": "markdown",
   "id": "combined-alliance",
   "metadata": {
    "id": "combined-alliance",
    "jp-MarkdownHeadingCollapsed": true,
    "tags": []
   },
   "source": [
    "### Control Module\n",
    "\n",
    "The control module uses RL to find an optimal policy.\n"
   ]
  },
  {
   "cell_type": "code",
   "execution_count": 10,
   "id": "157df96a-cad2-4fbb-9f2c-eda56738044d",
   "metadata": {},
   "outputs": [],
   "source": [
    "class Control():\n",
    "    \n",
    "    def __init__(self, theta, env, output_dir):\n",
    "        self.env = env\n",
    "        self.theta = theta\n",
    "        self.output_dir = output_dir\n",
    "        self.policy_file = 'policy'\n",
    "        \n",
    "    def train(self, timesteps):\n",
    "        ''' Train the control module to find the optimal policy for the Gym environment.\n",
    "            Monitor() and PPO() are part of the stable_baselines3 package.\n",
    "            PPO (Proximal Policy Optimisation) is a class of RL algorithm https://openai.com/blog/openai-baselines-ppo/\n",
    "            '''\n",
    "        self.env = Monitor(self.env, self.output_dir)\n",
    "        self.policy = PPO('MlpPolicy', self.env, verbose=0, clip_range=0.15)\n",
    "        self.policy.learn(total_timesteps=int(timesteps))\n",
    "        self.policy.save(f'{self.output_dir}{self.policy_file}')\n",
    "        print('Done training.')\n",
    "       \n",
    "    def load_policy(self):\n",
    "        self.policy = PPO.load(f'{self.output_dir}/{self.policy_file}')\n",
    "        return self.policy\n",
    "\n",
    "    def run(self, n_episodes, filename):\n",
    "        '''\n",
    "        run the model for n_episodes and save its behaviour in a csv file.\n",
    "        Note that 'env' is a term used by Gym to describe everything but the controller.\n",
    "        '''\n",
    "        max_episodes = 900000\n",
    "        #if n_episodes > max_episodes:\n",
    "        #    print(f'We ask that you limit training to a max of {max_episodes} on the School of Computer Science AWS account.')\n",
    "        #    print(f'If you want to run more training episodes then please do so on a local computer.')\n",
    "        #    return\n",
    "\n",
    "        result = []\n",
    "        background = []\n",
    "        # repeat for n episodes\n",
    "        eps = 0\n",
    "        while eps < n_episodes:                \n",
    "            done = False\n",
    "            step = 0\n",
    "            obs = self.env.reset()\n",
    "            new_bgrnd = self.env.world.get_background(eps)\n",
    "            background = background + new_bgrnd\n",
    "            # record the initial state\n",
    "            init_action = (-1,-1)\n",
    "            info = self.env.get_info(init_action, obs, 0, False)\n",
    "            info['episode'] = eps\n",
    "            result.append(info)\n",
    "            # repeat until the gaze is on the target.\n",
    "            while not done:\n",
    "                step+=1\n",
    "                # get the next prediction action from the policy\n",
    "                action, _ = self.policy.predict(obs,deterministic = True)\n",
    "                obs, reward, done, info = self.env.step(action)\n",
    "                info['episode'] = eps\n",
    "                result.append( info )\n",
    "            eps+=1\n",
    "        #path = f'{self.output_dir}/{filename}'\n",
    "        #df = pd.DataFrame(result)\n",
    "        #df.to_csv(path,index=False)\n",
    "        data_to_csv( result, self.output_dir, filename )\n",
    "        data_to_csv( background, self.output_dir, 'display.csv')\n"
   ]
  },
  {
   "cell_type": "markdown",
   "id": "957556de-856e-4399-9cf5-b7d12f7db751",
   "metadata": {
    "jp-MarkdownHeadingCollapsed": true,
    "tags": []
   },
   "source": [
    "## The Model\n",
    "\n",
    "The model is our model of cognition and the world. It is the environment for the control module. It defines the information flow between the modules defined above. \n",
    "\n",
    "It is defined as a Gym environment. For further information see: https://gym.openai.com/. gym.Env is a class provided by this library. The environments step function receives the action the controller and returns an observation.\n"
   ]
  },
  {
   "cell_type": "code",
   "execution_count": 11,
   "id": "a6014653-7d44-4cc7-bbc3-cc53df9ec9b3",
   "metadata": {},
   "outputs": [],
   "source": [
    "class CogEnv(gym.Env):\n",
    "    ''' The CogEnv defines the environment for the controller.\n",
    "    '''\n",
    "    \n",
    "    def __init__(self, output_dir, theta={}, max_steps=10):\n",
    "\n",
    "        self.theta = theta\n",
    "        \n",
    "        self.motor = Motor(theta)\n",
    "        self.world = World(theta, output_dir)\n",
    "        self.perception = Perception(theta)\n",
    "        self.utility = Utility(theta)\n",
    "        self.memory = Memory(theta)\n",
    "        # The CogEnv defines the environment for the controller and therefore a Control object is not defined here.\n",
    "        \n",
    "        # The action_space and observation_space are required by gym. These define the range of each variable.\n",
    "        # Each action has an x,y coordinate.\n",
    "        # Each obsevation is of the entire display.\n",
    "        \n",
    "        self.n_actions = (self.theta['n_attr']+1, self.theta['n_options'])\n",
    "        self.action_space = spaces.Discrete(np.prod(self.n_actions))\n",
    "    \n",
    "        self.observation_space = default_box(24)\n",
    "        \n",
    "        # max_fixations per episode. Used to curtail exploration early in training.\n",
    "        self.max_steps = max_steps\n",
    "        \n",
    "    def reset(self):\n",
    "        \n",
    "        self.motor.reset()\n",
    "        self.world.reset()\n",
    "        self.perception.reset()\n",
    "        self.utility.reset()\n",
    "        observation = self.memory.reset()\n",
    "\n",
    "        self.n_step = 0\n",
    "\n",
    "        return observation\n",
    "\n",
    "    def step(self, action):\n",
    "        action = to_xy_coord( action, self.n_actions )\n",
    "        ''' Define the information flow between the modules. '''\n",
    "        response = self.motor.step(action)\n",
    "        stimulus, done = self.world.step(response)\n",
    "        percept = self.perception.step(stimulus)\n",
    "        observation = self.memory.step(percept)\n",
    "        reward = self.utility.step(percept)\n",
    "        \n",
    "        self.n_step+=1\n",
    "        # give up if been looking for too long\n",
    "        if self.n_step > self.max_steps:\n",
    "            done = True\n",
    "            reward = -3\n",
    "            \n",
    "        info = self.get_info( action, observation, reward, done )\n",
    "        \n",
    "        return observation, reward, done, info\n",
    "\n",
    "    def get_info(self, action, observation, reward, done ):\n",
    "        return {'step': self.n_step,\n",
    "                'fixation_x': action[0],\n",
    "                'fixation_y': action[1],\n",
    "                'observation': observation,\n",
    "                'reward': reward,\n",
    "                'done': done}\n",
    "\n",
    "def to_xy_coord( n, dims ):\n",
    "    mapping = tuple(np.ndindex(dims))\n",
    "    return mapping[n]\n"
   ]
  },
  {
   "cell_type": "markdown",
   "id": "3daaacb8-115a-4e8c-a316-a189cdbadae5",
   "metadata": {
    "tags": []
   },
   "source": [
    "## Parameters"
   ]
  },
  {
   "cell_type": "markdown",
   "id": "520d53ed-a160-47ff-9432-3339f07c36ca",
   "metadata": {},
   "source": [
    "Define the model parameters"
   ]
  },
  {
   "cell_type": "code",
   "execution_count": 12,
   "id": "4b0260eb-313c-4082-b92e-6a21cd2120eb",
   "metadata": {},
   "outputs": [],
   "source": [
    "\n",
    "theta = {'n_attr':3, 'n_options':3, 'step_cost':0.01, 'weights':np.array([1,2,3])}\n"
   ]
  },
  {
   "cell_type": "markdown",
   "id": "44d6866d-fd75-43ee-b359-fef3a1870317",
   "metadata": {
    "id": "complex-covering",
    "jp-MarkdownHeadingCollapsed": true,
    "tags": []
   },
   "source": [
    "## Test the model"
   ]
  },
  {
   "cell_type": "markdown",
   "id": "34811351-d24c-4dd8-8269-ab2a31fae489",
   "metadata": {},
   "source": [
    "Step through the untrained model to check for simple bugs. Output a DataFrame with a row for each step.\n",
    "More comprehensive tests needed."
   ]
  },
  {
   "cell_type": "code",
   "execution_count": 13,
   "id": "8b388998-7cfe-4429-bdcf-3e08d4934adf",
   "metadata": {
    "colab": {
     "base_uri": "https://localhost:8080/"
    },
    "executionInfo": {
     "elapsed": 534,
     "status": "ok",
     "timestamp": 1643209756680,
     "user": {
      "displayName": "Andrew Howes",
      "photoUrl": "https://lh3.googleusercontent.com/a-/AOh14GguyjUymXH2ndqd0p8hhQuI6UyIwWtm4lsMYWs0Ug=s64",
      "userId": "02694399383679444060"
     },
     "user_tz": 0
    },
    "id": "4ed00048",
    "outputId": "95f13fd2-30ad-43d9-8cab-1d127f6359d6"
   },
   "outputs": [],
   "source": [
    "model = CogEnv( fldr, theta=theta, max_steps=10 )"
   ]
  },
  {
   "cell_type": "code",
   "execution_count": 14,
   "id": "14233301-7670-4195-a5ea-cbc471bed632",
   "metadata": {
    "colab": {
     "base_uri": "https://localhost:8080/"
    },
    "executionInfo": {
     "elapsed": 534,
     "status": "ok",
     "timestamp": 1643209756680,
     "user": {
      "displayName": "Andrew Howes",
      "photoUrl": "https://lh3.googleusercontent.com/a-/AOh14GguyjUymXH2ndqd0p8hhQuI6UyIwWtm4lsMYWs0Ug=s64",
      "userId": "02694399383679444060"
     },
     "user_tz": 0
    },
    "id": "4ed00048",
    "outputId": "95f13fd2-30ad-43d9-8cab-1d127f6359d6"
   },
   "outputs": [
    {
     "data": {
      "text/html": [
       "<div>\n",
       "<style scoped>\n",
       "    .dataframe tbody tr th:only-of-type {\n",
       "        vertical-align: middle;\n",
       "    }\n",
       "\n",
       "    .dataframe tbody tr th {\n",
       "        vertical-align: top;\n",
       "    }\n",
       "\n",
       "    .dataframe thead th {\n",
       "        text-align: right;\n",
       "    }\n",
       "</style>\n",
       "<table border=\"1\" class=\"dataframe\">\n",
       "  <thead>\n",
       "    <tr style=\"text-align: right;\">\n",
       "      <th></th>\n",
       "      <th>step</th>\n",
       "      <th>fixation_x</th>\n",
       "      <th>fixation_y</th>\n",
       "      <th>observation</th>\n",
       "      <th>reward</th>\n",
       "      <th>done</th>\n",
       "    </tr>\n",
       "  </thead>\n",
       "  <tbody>\n",
       "    <tr>\n",
       "      <th>0</th>\n",
       "      <td>1</td>\n",
       "      <td>0</td>\n",
       "      <td>2</td>\n",
       "      <td>[-1.0, -1.0, 0.3823863722251043, -1.0, -1.0, -...</td>\n",
       "      <td>-0.010000</td>\n",
       "      <td>False</td>\n",
       "    </tr>\n",
       "    <tr>\n",
       "      <th>1</th>\n",
       "      <td>2</td>\n",
       "      <td>1</td>\n",
       "      <td>0</td>\n",
       "      <td>[-1.0, -1.0, 0.3823863722251043, -0.6234380626...</td>\n",
       "      <td>-0.010000</td>\n",
       "      <td>False</td>\n",
       "    </tr>\n",
       "    <tr>\n",
       "      <th>2</th>\n",
       "      <td>3</td>\n",
       "      <td>1</td>\n",
       "      <td>2</td>\n",
       "      <td>[-1.0, -1.0, 0.3823863722251043, -0.6234380626...</td>\n",
       "      <td>-0.010000</td>\n",
       "      <td>False</td>\n",
       "    </tr>\n",
       "    <tr>\n",
       "      <th>3</th>\n",
       "      <td>4</td>\n",
       "      <td>2</td>\n",
       "      <td>2</td>\n",
       "      <td>[-1.0, -1.0, 0.3823863722251043, -0.6234380626...</td>\n",
       "      <td>-0.010000</td>\n",
       "      <td>False</td>\n",
       "    </tr>\n",
       "    <tr>\n",
       "      <th>4</th>\n",
       "      <td>5</td>\n",
       "      <td>2</td>\n",
       "      <td>2</td>\n",
       "      <td>[-1.0, -1.0, 0.3823863722251043, -0.6234380626...</td>\n",
       "      <td>-0.010000</td>\n",
       "      <td>False</td>\n",
       "    </tr>\n",
       "    <tr>\n",
       "      <th>5</th>\n",
       "      <td>6</td>\n",
       "      <td>0</td>\n",
       "      <td>0</td>\n",
       "      <td>[-0.7994017625808375, -1.0, 0.3823863722251043...</td>\n",
       "      <td>-0.010000</td>\n",
       "      <td>False</td>\n",
       "    </tr>\n",
       "    <tr>\n",
       "      <th>6</th>\n",
       "      <td>7</td>\n",
       "      <td>1</td>\n",
       "      <td>1</td>\n",
       "      <td>[-0.7994017625808375, -1.0, 0.3823863722251043...</td>\n",
       "      <td>-0.010000</td>\n",
       "      <td>False</td>\n",
       "    </tr>\n",
       "    <tr>\n",
       "      <th>7</th>\n",
       "      <td>8</td>\n",
       "      <td>2</td>\n",
       "      <td>2</td>\n",
       "      <td>[-0.7994017625808375, -1.0, 0.3823863722251043...</td>\n",
       "      <td>-0.010000</td>\n",
       "      <td>False</td>\n",
       "    </tr>\n",
       "    <tr>\n",
       "      <th>8</th>\n",
       "      <td>9</td>\n",
       "      <td>3</td>\n",
       "      <td>0</td>\n",
       "      <td>[-0.7994017625808375, -1.0, 0.3823863722251043...</td>\n",
       "      <td>-1.576807</td>\n",
       "      <td>True</td>\n",
       "    </tr>\n",
       "  </tbody>\n",
       "</table>\n",
       "</div>"
      ],
      "text/plain": [
       "   step  fixation_x  fixation_y  \\\n",
       "0     1           0           2   \n",
       "1     2           1           0   \n",
       "2     3           1           2   \n",
       "3     4           2           2   \n",
       "4     5           2           2   \n",
       "5     6           0           0   \n",
       "6     7           1           1   \n",
       "7     8           2           2   \n",
       "8     9           3           0   \n",
       "\n",
       "                                         observation    reward   done  \n",
       "0  [-1.0, -1.0, 0.3823863722251043, -1.0, -1.0, -... -0.010000  False  \n",
       "1  [-1.0, -1.0, 0.3823863722251043, -0.6234380626... -0.010000  False  \n",
       "2  [-1.0, -1.0, 0.3823863722251043, -0.6234380626... -0.010000  False  \n",
       "3  [-1.0, -1.0, 0.3823863722251043, -0.6234380626... -0.010000  False  \n",
       "4  [-1.0, -1.0, 0.3823863722251043, -0.6234380626... -0.010000  False  \n",
       "5  [-0.7994017625808375, -1.0, 0.3823863722251043... -0.010000  False  \n",
       "6  [-0.7994017625808375, -1.0, 0.3823863722251043... -0.010000  False  \n",
       "7  [-0.7994017625808375, -1.0, 0.3823863722251043... -0.010000  False  \n",
       "8  [-0.7994017625808375, -1.0, 0.3823863722251043... -1.576807   True  "
      ]
     },
     "execution_count": 14,
     "metadata": {},
     "output_type": "execute_result"
    }
   ],
   "source": [
    "\n",
    "def step_test():\n",
    "    j=0\n",
    "    result = []\n",
    "    done = False\n",
    "    model.reset()\n",
    "    while not done:\n",
    "        # make a step with a randomly sampled action\n",
    "        obs, reward, done, info = model.step(model.action_space.sample())\n",
    "        result.append(info)\n",
    "        j+=1\n",
    "    df = pd.DataFrame(result)\n",
    "    return df, j\n",
    "\n",
    "info, i = step_test()\n",
    "\n",
    "info"
   ]
  },
  {
   "cell_type": "markdown",
   "id": "378a8d46-a29c-4aad-9b5d-026924ef86c3",
   "metadata": {},
   "source": [
    "Calculate the average number of steps taken by the untrained model."
   ]
  },
  {
   "cell_type": "code",
   "execution_count": 15,
   "id": "5a8a530d-b199-434f-8d41-7f047cf81302",
   "metadata": {
    "colab": {
     "base_uri": "https://localhost:8080/"
    },
    "executionInfo": {
     "elapsed": 534,
     "status": "ok",
     "timestamp": 1643209756680,
     "user": {
      "displayName": "Andrew Howes",
      "photoUrl": "https://lh3.googleusercontent.com/a-/AOh14GguyjUymXH2ndqd0p8hhQuI6UyIwWtm4lsMYWs0Ug=s64",
      "userId": "02694399383679444060"
     },
     "user_tz": 0
    },
    "id": "4ed00048",
    "outputId": "95f13fd2-30ad-43d9-8cab-1d127f6359d6"
   },
   "outputs": [
    {
     "name": "stdout",
     "output_type": "stream",
     "text": [
      "3.4\n"
     ]
    }
   ],
   "source": [
    "def mean_steps_taken():\n",
    "    rs = []\n",
    "    for k in range(0,10):\n",
    "        info, i = step_test()\n",
    "        rs.append(i)\n",
    "    return sum(rs) / len(rs)\n",
    "\n",
    "model.max_steps = 1000\n",
    "\n",
    "r = mean_steps_taken()\n",
    "        \n",
    "print(r)"
   ]
  },
  {
   "cell_type": "markdown",
   "id": "cognitive-stevens",
   "metadata": {
    "id": "cognitive-stevens",
    "tags": []
   },
   "source": [
    "## Train the control module\n",
    "\n",
    "We can train the control module to generate a policy.\n",
    "\n",
    "By plotting the learning curve we can see whether the performance improves with training and whether the model approaches an optimum performance. We are interested in approximately optimal performance, so if the training curve is not approaching asymptote then we need to train with more timesteps or revise the model.\n",
    "\n",
    "We can see that at first the model uses hundreds of fixations to find the target, this is because it has not yet learned to move the gaze in a way that is informed by the observation. As it learns to do this, it takes fewer steps to gaze at the target and its performance improves.\n",
    "\n",
    "If our problem definition is correct then the model will get more 'human-like' the more that it is trained. In other words, training makes it a better model of interaction.\n",
    "\n",
    "If we assume that people are computationally rational then the optimal solution to the gaze problem (as defined above) predicts human behavior."
   ]
  },
  {
   "cell_type": "code",
   "execution_count": 16,
   "id": "067f28d0-80f0-4c99-bc5d-57820c594c1e",
   "metadata": {
    "colab": {
     "base_uri": "https://localhost:8080/",
     "height": 299
    },
    "executionInfo": {
     "elapsed": 66705,
     "status": "ok",
     "timestamp": 1643209827031,
     "user": {
      "displayName": "Andrew Howes",
      "photoUrl": "https://lh3.googleusercontent.com/a-/AOh14GguyjUymXH2ndqd0p8hhQuI6UyIwWtm4lsMYWs0Ug=s64",
      "userId": "02694399383679444060"
     },
     "user_tz": 0
    },
    "id": "7d0910ac",
    "outputId": "d927873a-e745-4931-d6b8-fb6f3a668245"
   },
   "outputs": [
    {
     "name": "stdout",
     "output_type": "stream",
     "text": [
      "Done training.\n"
     ]
    }
   ],
   "source": [
    "model.max_steps = 12\n",
    "\n",
    "control = Control(theta, model, fldr)\n",
    "\n",
    "timesteps = 500000\n",
    "\n",
    "control.train(timesteps)"
   ]
  },
  {
   "cell_type": "code",
   "execution_count": 17,
   "id": "871adbd9-8497-479a-badb-29c1c3fb6073",
   "metadata": {
    "colab": {
     "base_uri": "https://localhost:8080/",
     "height": 299
    },
    "executionInfo": {
     "elapsed": 66705,
     "status": "ok",
     "timestamp": 1643209827031,
     "user": {
      "displayName": "Andrew Howes",
      "photoUrl": "https://lh3.googleusercontent.com/a-/AOh14GguyjUymXH2ndqd0p8hhQuI6UyIwWtm4lsMYWs0Ug=s64",
      "userId": "02694399383679444060"
     },
     "user_tz": 0
    },
    "id": "7d0910ac",
    "outputId": "d927873a-e745-4931-d6b8-fb6f3a668245"
   },
   "outputs": [],
   "source": [
    "\n",
    "def save_model(model,results_folder):\n",
    "    with open(f'{results_folder}/model.pickle', 'wb') as handle:\n",
    "        pickle.dump(model, handle, protocol=pickle.HIGHEST_PROTOCOL)\n",
    "\n",
    "save_model(model, fldr)"
   ]
  },
  {
   "cell_type": "code",
   "execution_count": 18,
   "id": "10dec29b-114c-4b20-9355-62a5a151f6cc",
   "metadata": {},
   "outputs": [
    {
     "data": {
      "image/png": "[encoded data removed]",
      "text/plain": [
       "<Figure size 432x288 with 1 Axes>"
      ]
     },
     "metadata": {
      "needs_background": "light"
     },
     "output_type": "display_data"
    }
   ],
   "source": [
    "plot_learning_curve(fldr,800)\n"
   ]
  },
  {
   "cell_type": "markdown",
   "id": "e2797581-e41d-4859-9c7c-aaafa98dd00f",
   "metadata": {},
   "source": [
    "You should see a 'learning curve' in which as the model is trained with more 'timesteps' its performance improves. With more timesteps the rewards of each episode increase."
   ]
  },
  {
   "cell_type": "markdown",
   "id": "japanese-georgia",
   "metadata": {
    "id": "japanese-georgia",
    "tags": []
   },
   "source": [
    "### Run the model\n",
    "Run the trained model and save a trace of each episode to csv file."
   ]
  },
  {
   "cell_type": "code",
   "execution_count": 19,
   "id": "after-evans",
   "metadata": {
    "colab": {
     "base_uri": "https://localhost:8080/",
     "height": 35
    },
    "executionInfo": {
     "elapsed": 162308,
     "status": "ok",
     "timestamp": 1643210003598,
     "user": {
      "displayName": "Andrew Howes",
      "photoUrl": "https://lh3.googleusercontent.com/a-/AOh14GguyjUymXH2ndqd0p8hhQuI6UyIwWtm4lsMYWs0Ug=s64",
      "userId": "02694399383679444060"
     },
     "user_tz": 0
    },
    "id": "after-evans",
    "outputId": "838f8f2b-9414-454a-8700-acfd39062bb8"
   },
   "outputs": [],
   "source": [
    "control.run( 1000, 'behaviour_trace.csv' )"
   ]
  },
  {
   "cell_type": "markdown",
   "id": "99bdefc5-7dfb-481e-a887-729c7a08be18",
   "metadata": {},
   "source": [
    "### Excercise\n",
    "\n",
    "Retrain the control module but with timesteps=300000. Inspect the learning curve and note that there is now a clear asymptote in performance which approaches 0 loss.\n",
    "\n",
    "Rerun the model to generate a new behaviour_trace.csv"
   ]
  },
  {
   "cell_type": "markdown",
   "id": "stable-capture",
   "metadata": {
    "id": "stable-capture",
    "tags": []
   },
   "source": [
    "## Next\n",
    "\n",
    "Congratulations, you have now completed a Python notebook that introduces you to how to model cognition with RL. "
   ]
  },
  {
   "cell_type": "markdown",
   "id": "weekly-headquarters",
   "metadata": {
    "id": "weekly-headquarters"
   },
   "source": [
    "## References\n",
    "Chen, X., Starke, S. D., Baber, C., & Howes, A. (2017, May). A cognitive model of how people make decisions through interaction with visual displays. In Proceedings of the 2017 CHI conference on human factors in computing systems (pp. 1205-1216)."
   ]
  }
 ],
 "metadata": {
  "colab": {
   "collapsed_sections": [],
   "name": "gaze-based-interaction.ipynb",
   "provenance": []
  },
  "kernelspec": {
   "display_name": "Python 3 (ipykernel)",
   "language": "python",
   "name": "python3"
  },
  "language_info": {
   "codemirror_mode": {
    "name": "ipython",
    "version": 3
   },
   "file_extension": ".py",
   "mimetype": "text/x-python",
   "name": "python",
   "nbconvert_exporter": "python",
   "pygments_lexer": "ipython3",
   "version": "3.8.2"
  }
 },
 "nbformat": 4,
 "nbformat_minor": 5
}
