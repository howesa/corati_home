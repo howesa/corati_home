{
 "cells": [
  {
   "cell_type": "markdown",
   "id": "42f9fe01-613c-467e-9ab7-d26d35d58524",
   "metadata": {},
   "source": [
    "## Test the train policy"
   ]
  },
  {
   "cell_type": "code",
   "execution_count": 1,
   "id": "fcb26a4c-99fb-4acf-a557-8ae9f0c768b1",
   "metadata": {
    "colab": {
     "base_uri": "https://localhost:8080/"
    },
    "executionInfo": {
     "elapsed": 1652,
     "status": "ok",
     "timestamp": 1643210006123,
     "user": {
      "displayName": "Andrew Howes",
      "photoUrl": "https://lh3.googleusercontent.com/a-/AOh14GguyjUymXH2ndqd0p8hhQuI6UyIwWtm4lsMYWs0Ug=s64",
      "userId": "02694399383679444060"
     },
     "user_tz": 0
    },
    "id": "oeJU5wJR7A8V",
    "outputId": "f8e53d98-820c-4a31-b9f5-e4b5c46bd72b"
   },
   "outputs": [],
   "source": [
    "# This cell only for users of Google Colab.\n",
    "# No need to run this if you are using Jupyter notebooks\n",
    "# Mount Google drive and change directory into the project folder\n",
    "# Only needs to be run once\n",
    "\n",
    "#!pip install stable_baselines3\n",
    "\n",
    "#from google.colab import drive\n",
    "#drive.mount('/content/drive')\n",
    "\n",
    "#%cd '/content/drive/MyDrive/CHI22CMT/CHI22_CogMod_Tutorial/03-Reinforcement-Learning/034_Gaze_based_Interaction'\n"
   ]
  },
  {
   "cell_type": "code",
   "execution_count": 2,
   "id": "f54f029e-3638-460b-827f-fbcfd89930e5",
   "metadata": {
    "colab": {
     "base_uri": "https://localhost:8080/"
    },
    "executionInfo": {
     "elapsed": 6305,
     "status": "ok",
     "timestamp": 1643209694066,
     "user": {
      "displayName": "Andrew Howes",
      "photoUrl": "https://lh3.googleusercontent.com/a-/AOh14GguyjUymXH2ndqd0p8hhQuI6UyIwWtm4lsMYWs0Ug=s64",
      "userId": "02694399383679444060"
     },
     "user_tz": 0
    },
    "id": "P44tljjb8hBC",
    "outputId": "d635fb70-1df0-4ab3-f15e-13b3d7b2fdc9"
   },
   "outputs": [],
   "source": [
    "# Load local modules\n",
    "# gazetools is a module that contains functions for modeling gaze-based interaction.\n",
    "\n",
    "from tools import *\n",
    "\n",
    "from ipynb.fs.defs.multi_attribute_decision_making import *\n"
   ]
  },
  {
   "cell_type": "markdown",
   "id": "0b0beca4-fa6e-4458-825a-db06491c888a",
   "metadata": {
    "id": "japanese-georgia",
    "tags": []
   },
   "source": [
    "### Run the model\n",
    "Run the trained model and save a trace of each episode to csv file."
   ]
  },
  {
   "cell_type": "code",
   "execution_count": 3,
   "id": "1cbec46a-7b75-4de2-84ab-baa3c1bccc0b",
   "metadata": {
    "colab": {
     "base_uri": "https://localhost:8080/",
     "height": 35
    },
    "executionInfo": {
     "elapsed": 162308,
     "status": "ok",
     "timestamp": 1643210003598,
     "user": {
      "displayName": "Andrew Howes",
      "photoUrl": "https://lh3.googleusercontent.com/a-/AOh14GguyjUymXH2ndqd0p8hhQuI6UyIwWtm4lsMYWs0Ug=s64",
      "userId": "02694399383679444060"
     },
     "user_tz": 0
    },
    "id": "after-evans",
    "outputId": "838f8f2b-9414-454a-8700-acfd39062bb8"
   },
   "outputs": [
    {
     "name": "stdout",
     "output_type": "stream",
     "text": [
      "{'n_attr': 3, 'n_options': 3, 'step_cost': 0.01, 'weights': array([1, 2, 3])}\n"
     ]
    },
    {
     "data": {
      "text/html": [
       "<div>\n",
       "<style scoped>\n",
       "    .dataframe tbody tr th:only-of-type {\n",
       "        vertical-align: middle;\n",
       "    }\n",
       "\n",
       "    .dataframe tbody tr th {\n",
       "        vertical-align: top;\n",
       "    }\n",
       "\n",
       "    .dataframe thead th {\n",
       "        text-align: right;\n",
       "    }\n",
       "</style>\n",
       "<table border=\"1\" class=\"dataframe\">\n",
       "  <thead>\n",
       "    <tr style=\"text-align: right;\">\n",
       "      <th></th>\n",
       "      <th>step</th>\n",
       "      <th>fixate_x</th>\n",
       "      <th>fixate_y</th>\n",
       "      <th>observation</th>\n",
       "      <th>reward</th>\n",
       "      <th>done</th>\n",
       "      <th>episode</th>\n",
       "    </tr>\n",
       "  </thead>\n",
       "  <tbody>\n",
       "    <tr>\n",
       "      <th>0</th>\n",
       "      <td>0</td>\n",
       "      <td>0</td>\n",
       "      <td>0</td>\n",
       "      <td>[-1.0, -1.0, -1.0, -1.0, -1.0, -1.0, -1.0, -1....</td>\n",
       "      <td>0.00</td>\n",
       "      <td>False</td>\n",
       "      <td>0</td>\n",
       "    </tr>\n",
       "    <tr>\n",
       "      <th>1</th>\n",
       "      <td>1</td>\n",
       "      <td>2</td>\n",
       "      <td>0</td>\n",
       "      <td>[-1.0, -1.0, -1.0, -1.0, -1.0, -1.0, -0.9, -1....</td>\n",
       "      <td>-0.01</td>\n",
       "      <td>False</td>\n",
       "      <td>0</td>\n",
       "    </tr>\n",
       "    <tr>\n",
       "      <th>2</th>\n",
       "      <td>2</td>\n",
       "      <td>2</td>\n",
       "      <td>1</td>\n",
       "      <td>[-1.0, -1.0, -1.0, -1.0, -1.0, -1.0, -0.9, -0....</td>\n",
       "      <td>-0.01</td>\n",
       "      <td>False</td>\n",
       "      <td>0</td>\n",
       "    </tr>\n",
       "    <tr>\n",
       "      <th>3</th>\n",
       "      <td>3</td>\n",
       "      <td>2</td>\n",
       "      <td>0</td>\n",
       "      <td>[-1.0, -1.0, -1.0, -1.0, -1.0, -1.0, -0.9, -0....</td>\n",
       "      <td>-0.01</td>\n",
       "      <td>False</td>\n",
       "      <td>0</td>\n",
       "    </tr>\n",
       "    <tr>\n",
       "      <th>4</th>\n",
       "      <td>4</td>\n",
       "      <td>2</td>\n",
       "      <td>0</td>\n",
       "      <td>[-1.0, -1.0, -1.0, -1.0, -1.0, -1.0, -0.9, -0....</td>\n",
       "      <td>-0.01</td>\n",
       "      <td>False</td>\n",
       "      <td>0</td>\n",
       "    </tr>\n",
       "    <tr>\n",
       "      <th>...</th>\n",
       "      <td>...</td>\n",
       "      <td>...</td>\n",
       "      <td>...</td>\n",
       "      <td>...</td>\n",
       "      <td>...</td>\n",
       "      <td>...</td>\n",
       "      <td>...</td>\n",
       "    </tr>\n",
       "    <tr>\n",
       "      <th>9999</th>\n",
       "      <td>17</td>\n",
       "      <td>1</td>\n",
       "      <td>0</td>\n",
       "      <td>[-1.0, -1.0, -1.0, -0.7462006512137245, 0.3458...</td>\n",
       "      <td>-0.01</td>\n",
       "      <td>False</td>\n",
       "      <td>999</td>\n",
       "    </tr>\n",
       "    <tr>\n",
       "      <th>10000</th>\n",
       "      <td>18</td>\n",
       "      <td>1</td>\n",
       "      <td>0</td>\n",
       "      <td>[-1.0, -1.0, -1.0, -0.7462006512137245, 0.3458...</td>\n",
       "      <td>-0.01</td>\n",
       "      <td>False</td>\n",
       "      <td>999</td>\n",
       "    </tr>\n",
       "    <tr>\n",
       "      <th>10001</th>\n",
       "      <td>19</td>\n",
       "      <td>1</td>\n",
       "      <td>0</td>\n",
       "      <td>[-1.0, -1.0, -1.0, -0.7462006512137245, 0.3458...</td>\n",
       "      <td>-0.01</td>\n",
       "      <td>False</td>\n",
       "      <td>999</td>\n",
       "    </tr>\n",
       "    <tr>\n",
       "      <th>10002</th>\n",
       "      <td>20</td>\n",
       "      <td>1</td>\n",
       "      <td>0</td>\n",
       "      <td>[-1.0, -1.0, -1.0, -0.7462006512137245, 0.3458...</td>\n",
       "      <td>-0.01</td>\n",
       "      <td>False</td>\n",
       "      <td>999</td>\n",
       "    </tr>\n",
       "    <tr>\n",
       "      <th>10003</th>\n",
       "      <td>21</td>\n",
       "      <td>1</td>\n",
       "      <td>0</td>\n",
       "      <td>[-1.0, -1.0, -1.0, -0.7462006512137245, 0.3458...</td>\n",
       "      <td>-2.00</td>\n",
       "      <td>True</td>\n",
       "      <td>999</td>\n",
       "    </tr>\n",
       "  </tbody>\n",
       "</table>\n",
       "<p>10004 rows × 7 columns</p>\n",
       "</div>"
      ],
      "text/plain": [
       "       step  fixate_x  fixate_y  \\\n",
       "0         0         0         0   \n",
       "1         1         2         0   \n",
       "2         2         2         1   \n",
       "3         3         2         0   \n",
       "4         4         2         0   \n",
       "...     ...       ...       ...   \n",
       "9999     17         1         0   \n",
       "10000    18         1         0   \n",
       "10001    19         1         0   \n",
       "10002    20         1         0   \n",
       "10003    21         1         0   \n",
       "\n",
       "                                             observation  reward   done  \\\n",
       "0      [-1.0, -1.0, -1.0, -1.0, -1.0, -1.0, -1.0, -1....    0.00  False   \n",
       "1      [-1.0, -1.0, -1.0, -1.0, -1.0, -1.0, -0.9, -1....   -0.01  False   \n",
       "2      [-1.0, -1.0, -1.0, -1.0, -1.0, -1.0, -0.9, -0....   -0.01  False   \n",
       "3      [-1.0, -1.0, -1.0, -1.0, -1.0, -1.0, -0.9, -0....   -0.01  False   \n",
       "4      [-1.0, -1.0, -1.0, -1.0, -1.0, -1.0, -0.9, -0....   -0.01  False   \n",
       "...                                                  ...     ...    ...   \n",
       "9999   [-1.0, -1.0, -1.0, -0.7462006512137245, 0.3458...   -0.01  False   \n",
       "10000  [-1.0, -1.0, -1.0, -0.7462006512137245, 0.3458...   -0.01  False   \n",
       "10001  [-1.0, -1.0, -1.0, -0.7462006512137245, 0.3458...   -0.01  False   \n",
       "10002  [-1.0, -1.0, -1.0, -0.7462006512137245, 0.3458...   -0.01  False   \n",
       "10003  [-1.0, -1.0, -1.0, -0.7462006512137245, 0.3458...   -2.00   True   \n",
       "\n",
       "       episode  \n",
       "0            0  \n",
       "1            0  \n",
       "2            0  \n",
       "3            0  \n",
       "4            0  \n",
       "...        ...  \n",
       "9999       999  \n",
       "10000      999  \n",
       "10001      999  \n",
       "10002      999  \n",
       "10003      999  \n",
       "\n",
       "[10004 rows x 7 columns]"
      ]
     },
     "execution_count": 3,
     "metadata": {},
     "output_type": "execute_result"
    }
   ],
   "source": [
    "fldr = 'results_013'\n",
    "\n",
    "with open(f'{fldr}/model.pickle', 'rb') as handle:\n",
    "            model = pickle.load(handle)\n",
    "        \n",
    "print(model.theta)\n",
    "\n",
    "control = Control(model.theta, model, fldr)\n",
    "control.load_policy()\n",
    "\n",
    "control.run( 1000, 'behaviour_trace2.csv' )"
   ]
  }
 ],
 "metadata": {
  "kernelspec": {
   "display_name": "Python 3",
   "language": "python",
   "name": "python3"
  },
  "language_info": {
   "codemirror_mode": {
    "name": "ipython",
    "version": 3
   },
   "file_extension": ".py",
   "mimetype": "text/x-python",
   "name": "python",
   "nbconvert_exporter": "python",
   "pygments_lexer": "ipython3",
   "version": "3.8.8"
  }
 },
 "nbformat": 4,
 "nbformat_minor": 5
}
