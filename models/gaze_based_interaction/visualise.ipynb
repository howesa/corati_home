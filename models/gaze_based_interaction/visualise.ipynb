{
 "cells": [
  {
   "cell_type": "markdown",
   "id": "unavailable-light",
   "metadata": {},
   "source": [
    "## Visualise the model's behaviour\n",
    "Andrew Howes & Xiuli Chen"
   ]
  },
  {
   "cell_type": "markdown",
   "id": "6ded304a-1f3e-4c18-9f0a-02547a9c92dd",
   "metadata": {
    "tags": []
   },
   "source": [
    "### Configuration and imports"
   ]
  },
  {
   "cell_type": "code",
   "execution_count": 1,
   "id": "understood-constitution",
   "metadata": {},
   "outputs": [],
   "source": [
    "# Install baselines3\n",
    "# Only needs to be run once\n",
    "\n",
    "#!pip install stable_baselines3"
   ]
  },
  {
   "cell_type": "code",
   "execution_count": 2,
   "id": "forbidden-solution",
   "metadata": {},
   "outputs": [],
   "source": [
    "# This cell only for users of Google Colab.\n",
    "# No need to run this if you are using Jupyter notebooks\n",
    "# Mount Google drive and change directory into the project folder\n",
    "# Only needs to be run once\n",
    "\n",
    "#from google.colab import drive\n",
    "#drive.mount('/content/drive')\n",
    "\n",
    "#%cd '/content/drive/MyDrive/CHI22CMT/CHI22_CogMod_Tutorial/03-Reinforcement-Learning/034_Gaze_based_Interaction'"
   ]
  },
  {
   "cell_type": "code",
   "execution_count": 3,
   "id": "auburn-journalism",
   "metadata": {},
   "outputs": [],
   "source": [
    "from gazetools import *"
   ]
  },
  {
   "cell_type": "markdown",
   "id": "77c4db1b-a2bc-456c-9848-d3b88c65316a",
   "metadata": {},
   "source": [
    "### Animation"
   ]
  },
  {
   "cell_type": "code",
   "execution_count": 4,
   "id": "periodic-ferry",
   "metadata": {},
   "outputs": [
    {
     "data": {
      "text/plain": [
       "True"
      ]
     },
     "execution_count": 4,
     "metadata": {},
     "output_type": "execute_result"
    },
    {
     "data": {
      "image/png": "[encoded data removed]",
      "text/plain": [
       "<Figure size 504x504 with 1 Axes>"
      ]
     },
     "metadata": {
      "needs_background": "light"
     },
     "output_type": "display_data"
    }
   ],
   "source": [
    "data = pd.read_csv('output/behaviour_trace.csv')\n",
    "\n",
    "animate_multiple_episodes(data, n=30)\n",
    "\n",
    "# note that you may need to turn scrolling off to get the animation to work properly. \n",
    "# In Jupyter this can be done with 'toggle scrolling' in the Cell menu."
   ]
  },
  {
   "cell_type": "markdown",
   "id": "invalid-renaissance",
   "metadata": {},
   "source": [
    "### Exercise 1: Explain\n",
    "\n",
    "* Explain why multiple fixations are needed even in the optimal solution.\n",
    "* Why does the initial saccade move to the centre of the distribution of targets even before the target is available?\n",
    "* Does the learned strategy appear to 'undershoot' or 'overshoot' the target? Why?\n",
    "* How would you show that the model's behaviour corresponds to human data.\n",
    "* How could we determine a human-like reward function?\n",
    "\n",
    "### Exercise 2: Jitter and Dwell time extensions\n",
    "\n",
    "* Gaze-based interaction is subject to other constraints that are not represented in the above model. For example, people's eye movements are subject to jitter -- noise that is 'independent of signal'. In other words, there is additional fixed, constant noise even when a human tries to hold their gaze still.\n",
    "* Implement jitter in the above model?\n",
    "* What are the implications of jitter for gaze-based design of interaction? Implement a proposed interface in the external environment. Hint: Dwell time.\n",
    "\n",
    "### Exercise 3: Fitting to data\n",
    "\n",
    "* Fit the model that you have built in Exercise 2 to human data?\n",
    "* Hint: As a first step, try to generate predictions of eye movement time for different levels of target size.\n",
    "\n",
    "<img src=\"image/results.png\" alt=\"Comparison to human data.\" width=\"300\" height=\"400\">\n",
    "\n"
   ]
  }
 ],
 "metadata": {
  "kernelspec": {
   "display_name": "Python 3",
   "language": "python",
   "name": "python3"
  },
  "language_info": {
   "codemirror_mode": {
    "name": "ipython",
    "version": 3
   },
   "file_extension": ".py",
   "mimetype": "text/x-python",
   "name": "python",
   "nbconvert_exporter": "python",
   "pygments_lexer": "ipython3",
   "version": "3.8.8"
  }
 },
 "nbformat": 4,
 "nbformat_minor": 5
}
